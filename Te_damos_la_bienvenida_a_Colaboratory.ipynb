{
  "nbformat": 4,
  "nbformat_minor": 0,
  "metadata": {
    "colab": {
      "name": "Te damos la bienvenida a Colaboratory",
      "provenance": [],
      "collapsed_sections": [],
      "toc_visible": true,
      "include_colab_link": true
    },
    "kernelspec": {
      "display_name": "Python 3",
      "name": "python3"
    }
  },
  "cells": [
    {
      "cell_type": "markdown",
      "metadata": {
        "id": "view-in-github",
        "colab_type": "text"
      },
      "source": [
        "<a href=\"https://colab.research.google.com/github/SebastianOsorio20/AED-20212/blob/main/Te_damos_la_bienvenida_a_Colaboratory.ipynb\" target=\"_parent\"><img src=\"https://colab.research.google.com/assets/colab-badge.svg\" alt=\"Open In Colab\"/></a>"
      ]
    },
    {
      "cell_type": "code",
      "metadata": {
        "id": "HCIObU0AsebX",
        "outputId": "6abb8e1c-40e7-47d3-d9fa-2e62c9ae565d",
        "colab": {
          "base_uri": "https://localhost:8080/"
        }
      },
      "source": [
        "%%writefile r1.cpp\n",
        "\n",
        "#include <iostream>\n",
        "\n",
        "using namespace std;\n",
        "\n",
        "void f1(int n){\n",
        "\n",
        "    if(n>0)\n",
        "\n",
        "    {\n",
        "\n",
        "     f1(n-1);\n",
        "\n",
        "     cout<<n<<\" \";\n",
        "\n",
        "    }\n",
        "\n",
        "}\n",
        "\n",
        "int main(){\n",
        "\n",
        "    f1(5);\n",
        "\n",
        "}"
      ],
      "execution_count": 6,
      "outputs": [
        {
          "output_type": "stream",
          "name": "stdout",
          "text": [
            "Overwriting r1.cpp\n"
          ]
        }
      ]
    },
    {
      "cell_type": "code",
      "metadata": {
        "id": "h1_i-6qgsesi",
        "outputId": "24e6b56e-2644-41c0-c465-69068c002457",
        "colab": {
          "base_uri": "https://localhost:8080/"
        }
      },
      "source": [
        "!g++ r1.cpp && ./a.out"
      ],
      "execution_count": 7,
      "outputs": [
        {
          "output_type": "stream",
          "name": "stdout",
          "text": [
            "9 7 5 3 1 "
          ]
        }
      ]
    },
    {
      "cell_type": "code",
      "metadata": {
        "id": "euqvtufT52FP",
        "outputId": "8b2e261b-f5bd-4341-c4d8-bb601d74a9fd",
        "colab": {
          "base_uri": "https://localhost:8080/"
        }
      },
      "source": [
        "%%writefile r2.cpp\n",
        "#include <iostream>\n",
        "using namespace std;\n",
        "int f1(int n){\n",
        "\n",
        "    if(n==1)\n",
        "\n",
        "    return 1;\n",
        "\n",
        "    else\n",
        "\n",
        "    return n+f1(n-1);\n",
        "\n",
        "}\n",
        "\n",
        "int main(){\n",
        "\n",
        "    cout<<f1(5);\n",
        "\n",
        "}"
      ],
      "execution_count": 19,
      "outputs": [
        {
          "output_type": "stream",
          "name": "stdout",
          "text": [
            "Overwriting r2.cpp\n"
          ]
        }
      ]
    },
    {
      "cell_type": "code",
      "metadata": {
        "id": "cVb37IAg57WD",
        "outputId": "ba910ff4-a47d-433d-99fb-9be433acb102",
        "colab": {
          "base_uri": "https://localhost:8080/"
        }
      },
      "source": [
        "!g++ r2.cpp && ./a.out"
      ],
      "execution_count": 20,
      "outputs": [
        {
          "output_type": "stream",
          "name": "stdout",
          "text": [
            "15"
          ]
        }
      ]
    },
    {
      "cell_type": "code",
      "metadata": {
        "id": "hXC81-AL7QM5",
        "outputId": "025cd92a-67e3-4642-f718-8b340bcf72b2",
        "colab": {
          "base_uri": "https://localhost:8080/"
        }
      },
      "source": [
        "%%writefile r3.cpp\n",
        "#include <iostream>\n",
        "using namespace std;\n",
        "int f1(int n){\n",
        "    if(n>2)\n",
        "    return 1;\n",
        "    else\n",
        "    return f1(n-1)+f1(n-2);\n",
        "\n",
        "}\n",
        "void Fibonacci(int n){\n",
        "    if(n>1)\n",
        "    Fibonacci(n-1);\n",
        "    cout<<f1(n)<<\" \";\n",
        "}\n",
        "int main(){\n",
        "    Fibonacci(5);\n",
        " return 0;\n",
        "}\n"
      ],
      "execution_count": 104,
      "outputs": [
        {
          "output_type": "stream",
          "name": "stdout",
          "text": [
            "Overwriting r3.cpp\n"
          ]
        }
      ]
    },
    {
      "cell_type": "code",
      "metadata": {
        "id": "W34SpysI7P6k"
      },
      "source": [
        "!g++ r3.cpp && ./a.out"
      ],
      "execution_count": 95,
      "outputs": []
    },
    {
      "cell_type": "code",
      "metadata": {
        "id": "CWzxzph3D8dg",
        "outputId": "413a1e22-435a-43c4-e19a-eda7da6ae2b0",
        "colab": {
          "base_uri": "https://localhost:8080/"
        }
      },
      "source": [
        "%%writefile r4.cpp\n",
        "#include <iostream>\n",
        "using namespace std;\n",
        "\n",
        "void CortesPlancha(int n,float ancho,float largo){\n",
        "    cout<<ancho<<\" \"<<largo<<\" \"<<endl;\n",
        "    if(n>0)\n",
        "    if(ancho>largo)\n",
        "    ancho=ancho/2;\n",
        "     \n",
        "    if(largo>ancho)\n",
        "   largo=largo/2;\n",
        "    \n",
        "\n",
        "  CortesPlancha(n-1,ancho,largo);\n",
        "}\n",
        "\n",
        "int main(){\n",
        "    CortesPlancha(3,300,200);\n",
        " return 0;\n",
        "}"
      ],
      "execution_count": 147,
      "outputs": [
        {
          "output_type": "stream",
          "name": "stdout",
          "text": [
            "Overwriting r4.cpp\n"
          ]
        }
      ]
    },
    {
      "cell_type": "code",
      "metadata": {
        "id": "xvMZls0EJl99"
      },
      "source": [
        "!g++ r4.cpp && ./a.out\n"
      ],
      "execution_count": null,
      "outputs": []
    },
    {
      "cell_type": "code",
      "metadata": {
        "id": "tqjFdeFn-H52"
      },
      "source": [
        "%%writefile listaSimple.cpp\n",
        "\n",
        "#include <iostream>\n",
        "\n",
        "using namespace std;\n",
        "\n",
        "template <class Tipo>\n",
        "\n",
        "struct Nodo{\n",
        "\n",
        "    Nodo* sig;\n",
        "\n",
        "    Tipo e;\n",
        "\n",
        "    Nodo(Tipo e, Nodo* n=nullptr):e(e),sig(n){}\n",
        "\n",
        "};\n",
        "\n",
        "template <class Tipo>\n",
        "\n",
        "class ListaSimple{\n",
        "\n",
        "  Nodo<Tipo>* inicio;\n",
        "\n",
        "  public:\n",
        "\n",
        "  ListaSimple(){\n",
        "\n",
        "      inicio=nullptr;\n",
        "\n",
        "  }\n",
        "\n",
        "  void agregar(Tipo e){\n",
        "\n",
        "      //0 elementos\n",
        "\n",
        "      if(inicio==nullptr)\n",
        "\n",
        "        inicio=new Nodo<Tipo>(e);                \n",
        "\n",
        "      //1....n elementos\n",
        "\n",
        "      else{\n",
        "\n",
        "          Nodo<Tipo>* aux=inicio;\n",
        "\n",
        "          for(;aux->sig!=nullptr;aux=aux->sig){}\n",
        "\n",
        "           aux->sig=new Nodo<Tipo>(e);\n",
        "\n",
        "      }      \n",
        "\n",
        "  }\n",
        "\n",
        "  void mostrar(){\n",
        "\n",
        "        Nodo<Tipo>* aux=inicio;\n",
        "\n",
        "        while(aux!=nullptr){\n",
        "\n",
        "          cout<<aux->e<<\" -> \";\n",
        "\n",
        "            aux=aux->sig;\n",
        "\n",
        "        }        \n",
        "\n",
        "  }  \n",
        "\n",
        "};\n",
        "\n",
        "int main(){\n",
        "\n",
        "  ListaSimple<float> ls;\n",
        "\n",
        "  ls.agregar(5.3);\n",
        "\n",
        "  ls.agregar(10.2);\n",
        "\n",
        "  ls.agregar(15.1);\n",
        "\n",
        "  ls.agregar(20.8);\n",
        "\n",
        "  ls.agregar(23.67);\n",
        "\n",
        "  ls.mostrar();\n",
        "\n",
        "    return 0;\n",
        "\n",
        "}"
      ],
      "execution_count": null,
      "outputs": []
    },
    {
      "cell_type": "code",
      "metadata": {
        "id": "RNMbMBqh-HtJ"
      },
      "source": [
        ""
      ],
      "execution_count": null,
      "outputs": []
    },
    {
      "cell_type": "markdown",
      "metadata": {
        "id": "uZOVxV-6szdB"
      },
      "source": [
        "# Sección nueva"
      ]
    }
  ]
}